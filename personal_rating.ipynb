{
 "cells": [
  {
   "cell_type": "markdown",
   "metadata": {},
   "source": [
    "# personal_rating"
   ]
  },
  {
   "cell_type": "code",
   "execution_count": 1,
   "metadata": {},
   "outputs": [],
   "source": [
    "import pandas as pd\n",
    "import numpy as np\n",
    "path = '/Users/riasnazary/datascience/08_recommender-syst/ml-latest-small/'\n",
    "movies = pd.read_csv(path + 'movies.csv')\n",
    "ratings = pd.read_csv(path + 'ratings.csv')\n",
    "movies_rated = pd.merge(movies, ratings, on=['movieId'])\n",
    "movies_rated.drop(columns='timestamp', inplace=True)"
   ]
  },
  {
   "cell_type": "code",
   "execution_count": 2,
   "metadata": {},
   "outputs": [],
   "source": [
    "def pop_recommender(data: pd.DataFrame, min_n_ratings=100, n_pop_movies=50):\n",
    "    recommended_movies = (\n",
    "    movies_rated\n",
    "        .groupby(['title', 'movieId'])\n",
    "        .agg(\n",
    "            avg_rating = ('rating','mean'),\n",
    "            count = ('title','count')\n",
    "            )\n",
    "        .query('count > @min_n_ratings')\n",
    "        .sort_values('avg_rating', ascending=False)\n",
    "        .head(n_pop_movies)\n",
    "        .reset_index()\n",
    "        .assign(avg_rating = lambda x: round(x['avg_rating'], 2))\n",
    "    )\n",
    "    return recommended_movies\n",
    "pop_movies = pop_recommender(movies_rated)\n",
    "pop_movies['userId'] = 611\n",
    "pop_movies['rating'] = np.nan"
   ]
  },
  {
   "cell_type": "code",
   "execution_count": 3,
   "metadata": {},
   "outputs": [
    {
     "name": "stdout",
     "output_type": "stream",
     "text": [
      "your table has been saved.\n"
     ]
    }
   ],
   "source": [
    "pop_movies.to_excel('pop_movies.xlsx')\n",
    "print(\"your table has been saved.\")"
   ]
  },
  {
   "cell_type": "code",
   "execution_count": 4,
   "metadata": {},
   "outputs": [],
   "source": [
    "path2 = '/Users/riasnazary/datascience/08_recommender-syst/wbsflix/'\n",
    "user_rated = pd.read_excel(path2 + 'pop_movies_rated.xlsx')\n",
    "user_rated.drop(columns = ['Unnamed: 0', 'avg_rating', 'count', 'title'], inplace = True)\n",
    "user_rated['timestamp'] = np.nan\n",
    "user_rated = user_rated[['userId', 'movieId', 'rating', 'timestamp']]"
   ]
  },
  {
   "cell_type": "code",
   "execution_count": 5,
   "metadata": {},
   "outputs": [],
   "source": [
    "ratings = pd.concat([ratings, user_rated], ignore_index=True)"
   ]
  },
  {
   "cell_type": "code",
   "execution_count": 8,
   "metadata": {},
   "outputs": [
    {
     "data": {
      "text/html": [
       "<div>\n",
       "<style scoped>\n",
       "    .dataframe tbody tr th:only-of-type {\n",
       "        vertical-align: middle;\n",
       "    }\n",
       "\n",
       "    .dataframe tbody tr th {\n",
       "        vertical-align: top;\n",
       "    }\n",
       "\n",
       "    .dataframe thead th {\n",
       "        text-align: right;\n",
       "    }\n",
       "</style>\n",
       "<table border=\"1\" class=\"dataframe\">\n",
       "  <thead>\n",
       "    <tr style=\"text-align: right;\">\n",
       "      <th></th>\n",
       "      <th>userId</th>\n",
       "      <th>movieId</th>\n",
       "      <th>rating</th>\n",
       "      <th>timestamp</th>\n",
       "    </tr>\n",
       "  </thead>\n",
       "  <tbody>\n",
       "    <tr>\n",
       "      <th>100885</th>\n",
       "      <td>611</td>\n",
       "      <td>32</td>\n",
       "      <td>2.0</td>\n",
       "      <td>NaN</td>\n",
       "    </tr>\n",
       "  </tbody>\n",
       "</table>\n",
       "</div>"
      ],
      "text/plain": [
       "        userId  movieId  rating  timestamp\n",
       "100885     611       32     2.0        NaN"
      ]
     },
     "execution_count": 8,
     "metadata": {},
     "output_type": "execute_result"
    }
   ],
   "source": [
    "ratings.tail(1)"
   ]
  },
  {
   "cell_type": "code",
   "execution_count": 7,
   "metadata": {},
   "outputs": [
    {
     "name": "stdout",
     "output_type": "stream",
     "text": [
      "your table has been saved.\n"
     ]
    }
   ],
   "source": [
    "ratings.to_csv(path + 'ratings.csv')\n",
    "print(\"your table has been saved.\")"
   ]
  },
  {
   "cell_type": "code",
   "execution_count": null,
   "metadata": {},
   "outputs": [],
   "source": []
  }
 ],
 "metadata": {
  "interpreter": {
   "hash": "8557169e40f946b7b2d53c2523703920421f68fc791b17347e1c368925750859"
  },
  "kernelspec": {
   "display_name": "Python 3 (ipykernel)",
   "language": "python",
   "name": "python3"
  },
  "language_info": {
   "codemirror_mode": {
    "name": "ipython",
    "version": 3
   },
   "file_extension": ".py",
   "mimetype": "text/x-python",
   "name": "python",
   "nbconvert_exporter": "python",
   "pygments_lexer": "ipython3",
   "version": "3.8.8"
  }
 },
 "nbformat": 4,
 "nbformat_minor": 4
}
